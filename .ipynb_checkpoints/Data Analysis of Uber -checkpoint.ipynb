{
 "cells": [
  {
   "cell_type": "code",
   "execution_count": 1,
   "metadata": {},
   "outputs": [
    {
     "name": "stdout",
     "output_type": "stream",
     "text": [
      "Populating the interactive namespace from numpy and matplotlib\n"
     ]
    }
   ],
   "source": [
    "\n",
    "%pylab inline\n",
    "import pandas\n",
    "import seaborn"
   ]
  },
  {
   "cell_type": "code",
   "execution_count": 2,
   "metadata": {},
   "outputs": [],
   "source": [
    "data = pandas.read_csv('C:/Users/PC/Desktop/Uber-trip-data/uber-raw-data-apr14.csv')"
   ]
  },
  {
   "cell_type": "code",
   "execution_count": 3,
   "metadata": {},
   "outputs": [
    {
     "data": {
      "text/html": [
       "<div>\n",
       "<style scoped>\n",
       "    .dataframe tbody tr th:only-of-type {\n",
       "        vertical-align: middle;\n",
       "    }\n",
       "\n",
       "    .dataframe tbody tr th {\n",
       "        vertical-align: top;\n",
       "    }\n",
       "\n",
       "    .dataframe thead th {\n",
       "        text-align: right;\n",
       "    }\n",
       "</style>\n",
       "<table border=\"1\" class=\"dataframe\">\n",
       "  <thead>\n",
       "    <tr style=\"text-align: right;\">\n",
       "      <th></th>\n",
       "      <th>Date/Time</th>\n",
       "      <th>Lat</th>\n",
       "      <th>Lon</th>\n",
       "      <th>Base</th>\n",
       "    </tr>\n",
       "  </thead>\n",
       "  <tbody>\n",
       "    <tr>\n",
       "      <th>564511</th>\n",
       "      <td>4/30/2014 23:22:00</td>\n",
       "      <td>40.7640</td>\n",
       "      <td>-73.9744</td>\n",
       "      <td>B02764</td>\n",
       "    </tr>\n",
       "    <tr>\n",
       "      <th>564512</th>\n",
       "      <td>4/30/2014 23:26:00</td>\n",
       "      <td>40.7629</td>\n",
       "      <td>-73.9672</td>\n",
       "      <td>B02764</td>\n",
       "    </tr>\n",
       "    <tr>\n",
       "      <th>564513</th>\n",
       "      <td>4/30/2014 23:31:00</td>\n",
       "      <td>40.7443</td>\n",
       "      <td>-73.9889</td>\n",
       "      <td>B02764</td>\n",
       "    </tr>\n",
       "    <tr>\n",
       "      <th>564514</th>\n",
       "      <td>4/30/2014 23:32:00</td>\n",
       "      <td>40.6756</td>\n",
       "      <td>-73.9405</td>\n",
       "      <td>B02764</td>\n",
       "    </tr>\n",
       "    <tr>\n",
       "      <th>564515</th>\n",
       "      <td>4/30/2014 23:48:00</td>\n",
       "      <td>40.6880</td>\n",
       "      <td>-73.9608</td>\n",
       "      <td>B02764</td>\n",
       "    </tr>\n",
       "  </tbody>\n",
       "</table>\n",
       "</div>"
      ],
      "text/plain": [
       "                 Date/Time      Lat      Lon    Base\n",
       "564511  4/30/2014 23:22:00  40.7640 -73.9744  B02764\n",
       "564512  4/30/2014 23:26:00  40.7629 -73.9672  B02764\n",
       "564513  4/30/2014 23:31:00  40.7443 -73.9889  B02764\n",
       "564514  4/30/2014 23:32:00  40.6756 -73.9405  B02764\n",
       "564515  4/30/2014 23:48:00  40.6880 -73.9608  B02764"
      ]
     },
     "execution_count": 3,
     "metadata": {},
     "output_type": "execute_result"
    }
   ],
   "source": [
    "data.tail()\n"
   ]
  },
  {
   "cell_type": "code",
   "execution_count": 4,
   "metadata": {},
   "outputs": [
    {
     "data": {
      "text/html": [
       "<div>\n",
       "<style scoped>\n",
       "    .dataframe tbody tr th:only-of-type {\n",
       "        vertical-align: middle;\n",
       "    }\n",
       "\n",
       "    .dataframe tbody tr th {\n",
       "        vertical-align: top;\n",
       "    }\n",
       "\n",
       "    .dataframe thead th {\n",
       "        text-align: right;\n",
       "    }\n",
       "</style>\n",
       "<table border=\"1\" class=\"dataframe\">\n",
       "  <thead>\n",
       "    <tr style=\"text-align: right;\">\n",
       "      <th></th>\n",
       "      <th>Date/Time</th>\n",
       "      <th>Lat</th>\n",
       "      <th>Lon</th>\n",
       "      <th>Base</th>\n",
       "    </tr>\n",
       "  </thead>\n",
       "  <tbody>\n",
       "    <tr>\n",
       "      <th>0</th>\n",
       "      <td>4/1/2014 0:11:00</td>\n",
       "      <td>40.7690</td>\n",
       "      <td>-73.9549</td>\n",
       "      <td>B02512</td>\n",
       "    </tr>\n",
       "    <tr>\n",
       "      <th>1</th>\n",
       "      <td>4/1/2014 0:17:00</td>\n",
       "      <td>40.7267</td>\n",
       "      <td>-74.0345</td>\n",
       "      <td>B02512</td>\n",
       "    </tr>\n",
       "    <tr>\n",
       "      <th>2</th>\n",
       "      <td>4/1/2014 0:21:00</td>\n",
       "      <td>40.7316</td>\n",
       "      <td>-73.9873</td>\n",
       "      <td>B02512</td>\n",
       "    </tr>\n",
       "    <tr>\n",
       "      <th>3</th>\n",
       "      <td>4/1/2014 0:28:00</td>\n",
       "      <td>40.7588</td>\n",
       "      <td>-73.9776</td>\n",
       "      <td>B02512</td>\n",
       "    </tr>\n",
       "    <tr>\n",
       "      <th>4</th>\n",
       "      <td>4/1/2014 0:33:00</td>\n",
       "      <td>40.7594</td>\n",
       "      <td>-73.9722</td>\n",
       "      <td>B02512</td>\n",
       "    </tr>\n",
       "    <tr>\n",
       "      <th>...</th>\n",
       "      <td>...</td>\n",
       "      <td>...</td>\n",
       "      <td>...</td>\n",
       "      <td>...</td>\n",
       "    </tr>\n",
       "    <tr>\n",
       "      <th>564511</th>\n",
       "      <td>4/30/2014 23:22:00</td>\n",
       "      <td>40.7640</td>\n",
       "      <td>-73.9744</td>\n",
       "      <td>B02764</td>\n",
       "    </tr>\n",
       "    <tr>\n",
       "      <th>564512</th>\n",
       "      <td>4/30/2014 23:26:00</td>\n",
       "      <td>40.7629</td>\n",
       "      <td>-73.9672</td>\n",
       "      <td>B02764</td>\n",
       "    </tr>\n",
       "    <tr>\n",
       "      <th>564513</th>\n",
       "      <td>4/30/2014 23:31:00</td>\n",
       "      <td>40.7443</td>\n",
       "      <td>-73.9889</td>\n",
       "      <td>B02764</td>\n",
       "    </tr>\n",
       "    <tr>\n",
       "      <th>564514</th>\n",
       "      <td>4/30/2014 23:32:00</td>\n",
       "      <td>40.6756</td>\n",
       "      <td>-73.9405</td>\n",
       "      <td>B02764</td>\n",
       "    </tr>\n",
       "    <tr>\n",
       "      <th>564515</th>\n",
       "      <td>4/30/2014 23:48:00</td>\n",
       "      <td>40.6880</td>\n",
       "      <td>-73.9608</td>\n",
       "      <td>B02764</td>\n",
       "    </tr>\n",
       "  </tbody>\n",
       "</table>\n",
       "<p>564516 rows × 4 columns</p>\n",
       "</div>"
      ],
      "text/plain": [
       "                 Date/Time      Lat      Lon    Base\n",
       "0         4/1/2014 0:11:00  40.7690 -73.9549  B02512\n",
       "1         4/1/2014 0:17:00  40.7267 -74.0345  B02512\n",
       "2         4/1/2014 0:21:00  40.7316 -73.9873  B02512\n",
       "3         4/1/2014 0:28:00  40.7588 -73.9776  B02512\n",
       "4         4/1/2014 0:33:00  40.7594 -73.9722  B02512\n",
       "...                    ...      ...      ...     ...\n",
       "564511  4/30/2014 23:22:00  40.7640 -73.9744  B02764\n",
       "564512  4/30/2014 23:26:00  40.7629 -73.9672  B02764\n",
       "564513  4/30/2014 23:31:00  40.7443 -73.9889  B02764\n",
       "564514  4/30/2014 23:32:00  40.6756 -73.9405  B02764\n",
       "564515  4/30/2014 23:48:00  40.6880 -73.9608  B02764\n",
       "\n",
       "[564516 rows x 4 columns]"
      ]
     },
     "execution_count": 4,
     "metadata": {},
     "output_type": "execute_result"
    }
   ],
   "source": [
    "data "
   ]
  },
  {
   "cell_type": "markdown",
   "metadata": {},
   "source": [
    "  add some useful columns and convert datetime"
   ]
  },
  {
   "cell_type": "code",
   "execution_count": 4,
   "metadata": {},
   "outputs": [],
   "source": [
    "data['Date/Time'] = data['Date/Time'].map(pandas.to_datetime)"
   ]
  },
  {
   "cell_type": "code",
   "execution_count": 5,
   "metadata": {},
   "outputs": [
    {
     "data": {
      "text/html": [
       "<div>\n",
       "<style scoped>\n",
       "    .dataframe tbody tr th:only-of-type {\n",
       "        vertical-align: middle;\n",
       "    }\n",
       "\n",
       "    .dataframe tbody tr th {\n",
       "        vertical-align: top;\n",
       "    }\n",
       "\n",
       "    .dataframe thead th {\n",
       "        text-align: right;\n",
       "    }\n",
       "</style>\n",
       "<table border=\"1\" class=\"dataframe\">\n",
       "  <thead>\n",
       "    <tr style=\"text-align: right;\">\n",
       "      <th></th>\n",
       "      <th>Date/Time</th>\n",
       "      <th>Lat</th>\n",
       "      <th>Lon</th>\n",
       "      <th>Base</th>\n",
       "    </tr>\n",
       "  </thead>\n",
       "  <tbody>\n",
       "    <tr>\n",
       "      <th>564511</th>\n",
       "      <td>2014-04-30 23:22:00</td>\n",
       "      <td>40.7640</td>\n",
       "      <td>-73.9744</td>\n",
       "      <td>B02764</td>\n",
       "    </tr>\n",
       "    <tr>\n",
       "      <th>564512</th>\n",
       "      <td>2014-04-30 23:26:00</td>\n",
       "      <td>40.7629</td>\n",
       "      <td>-73.9672</td>\n",
       "      <td>B02764</td>\n",
       "    </tr>\n",
       "    <tr>\n",
       "      <th>564513</th>\n",
       "      <td>2014-04-30 23:31:00</td>\n",
       "      <td>40.7443</td>\n",
       "      <td>-73.9889</td>\n",
       "      <td>B02764</td>\n",
       "    </tr>\n",
       "    <tr>\n",
       "      <th>564514</th>\n",
       "      <td>2014-04-30 23:32:00</td>\n",
       "      <td>40.6756</td>\n",
       "      <td>-73.9405</td>\n",
       "      <td>B02764</td>\n",
       "    </tr>\n",
       "    <tr>\n",
       "      <th>564515</th>\n",
       "      <td>2014-04-30 23:48:00</td>\n",
       "      <td>40.6880</td>\n",
       "      <td>-73.9608</td>\n",
       "      <td>B02764</td>\n",
       "    </tr>\n",
       "  </tbody>\n",
       "</table>\n",
       "</div>"
      ],
      "text/plain": [
       "                 Date/Time      Lat      Lon    Base\n",
       "564511 2014-04-30 23:22:00  40.7640 -73.9744  B02764\n",
       "564512 2014-04-30 23:26:00  40.7629 -73.9672  B02764\n",
       "564513 2014-04-30 23:31:00  40.7443 -73.9889  B02764\n",
       "564514 2014-04-30 23:32:00  40.6756 -73.9405  B02764\n",
       "564515 2014-04-30 23:48:00  40.6880 -73.9608  B02764"
      ]
     },
     "execution_count": 5,
     "metadata": {},
     "output_type": "execute_result"
    }
   ],
   "source": [
    "data.tail()"
   ]
  },
  {
   "cell_type": "code",
   "execution_count": 6,
   "metadata": {},
   "outputs": [],
   "source": [
    "dt = data['Date/Time'][56453]"
   ]
  },
  {
   "cell_type": "code",
   "execution_count": 7,
   "metadata": {},
   "outputs": [
    {
     "data": {
      "text/plain": [
       "Timestamp('2014-04-05 00:00:00')"
      ]
     },
     "execution_count": 7,
     "metadata": {},
     "output_type": "execute_result"
    }
   ],
   "source": [
    "dt"
   ]
  },
  {
   "cell_type": "code",
   "execution_count": 8,
   "metadata": {},
   "outputs": [],
   "source": [
    "def get_dom(dt):\n",
    "    return dt.day\n",
    "\n",
    "data['dom'] = data['Date/Time'].map(get_dom)"
   ]
  },
  {
   "cell_type": "code",
   "execution_count": 9,
   "metadata": {},
   "outputs": [
    {
     "data": {
      "text/html": [
       "<div>\n",
       "<style scoped>\n",
       "    .dataframe tbody tr th:only-of-type {\n",
       "        vertical-align: middle;\n",
       "    }\n",
       "\n",
       "    .dataframe tbody tr th {\n",
       "        vertical-align: top;\n",
       "    }\n",
       "\n",
       "    .dataframe thead th {\n",
       "        text-align: right;\n",
       "    }\n",
       "</style>\n",
       "<table border=\"1\" class=\"dataframe\">\n",
       "  <thead>\n",
       "    <tr style=\"text-align: right;\">\n",
       "      <th></th>\n",
       "      <th>Date/Time</th>\n",
       "      <th>Lat</th>\n",
       "      <th>Lon</th>\n",
       "      <th>Base</th>\n",
       "      <th>dom</th>\n",
       "    </tr>\n",
       "  </thead>\n",
       "  <tbody>\n",
       "    <tr>\n",
       "      <th>564511</th>\n",
       "      <td>2014-04-30 23:22:00</td>\n",
       "      <td>40.7640</td>\n",
       "      <td>-73.9744</td>\n",
       "      <td>B02764</td>\n",
       "      <td>30</td>\n",
       "    </tr>\n",
       "    <tr>\n",
       "      <th>564512</th>\n",
       "      <td>2014-04-30 23:26:00</td>\n",
       "      <td>40.7629</td>\n",
       "      <td>-73.9672</td>\n",
       "      <td>B02764</td>\n",
       "      <td>30</td>\n",
       "    </tr>\n",
       "    <tr>\n",
       "      <th>564513</th>\n",
       "      <td>2014-04-30 23:31:00</td>\n",
       "      <td>40.7443</td>\n",
       "      <td>-73.9889</td>\n",
       "      <td>B02764</td>\n",
       "      <td>30</td>\n",
       "    </tr>\n",
       "    <tr>\n",
       "      <th>564514</th>\n",
       "      <td>2014-04-30 23:32:00</td>\n",
       "      <td>40.6756</td>\n",
       "      <td>-73.9405</td>\n",
       "      <td>B02764</td>\n",
       "      <td>30</td>\n",
       "    </tr>\n",
       "    <tr>\n",
       "      <th>564515</th>\n",
       "      <td>2014-04-30 23:48:00</td>\n",
       "      <td>40.6880</td>\n",
       "      <td>-73.9608</td>\n",
       "      <td>B02764</td>\n",
       "      <td>30</td>\n",
       "    </tr>\n",
       "  </tbody>\n",
       "</table>\n",
       "</div>"
      ],
      "text/plain": [
       "                 Date/Time      Lat      Lon    Base  dom\n",
       "564511 2014-04-30 23:22:00  40.7640 -73.9744  B02764   30\n",
       "564512 2014-04-30 23:26:00  40.7629 -73.9672  B02764   30\n",
       "564513 2014-04-30 23:31:00  40.7443 -73.9889  B02764   30\n",
       "564514 2014-04-30 23:32:00  40.6756 -73.9405  B02764   30\n",
       "564515 2014-04-30 23:48:00  40.6880 -73.9608  B02764   30"
      ]
     },
     "execution_count": 9,
     "metadata": {},
     "output_type": "execute_result"
    }
   ],
   "source": [
    "data.tail()"
   ]
  },
  {
   "cell_type": "code",
   "execution_count": 10,
   "metadata": {},
   "outputs": [
    {
     "data": {
      "text/html": [
       "<div>\n",
       "<style scoped>\n",
       "    .dataframe tbody tr th:only-of-type {\n",
       "        vertical-align: middle;\n",
       "    }\n",
       "\n",
       "    .dataframe tbody tr th {\n",
       "        vertical-align: top;\n",
       "    }\n",
       "\n",
       "    .dataframe thead th {\n",
       "        text-align: right;\n",
       "    }\n",
       "</style>\n",
       "<table border=\"1\" class=\"dataframe\">\n",
       "  <thead>\n",
       "    <tr style=\"text-align: right;\">\n",
       "      <th></th>\n",
       "      <th>Date/Time</th>\n",
       "      <th>Lat</th>\n",
       "      <th>Lon</th>\n",
       "      <th>Base</th>\n",
       "      <th>dom</th>\n",
       "      <th>weekday</th>\n",
       "      <th>hour</th>\n",
       "    </tr>\n",
       "  </thead>\n",
       "  <tbody>\n",
       "    <tr>\n",
       "      <th>564511</th>\n",
       "      <td>2014-04-30 23:22:00</td>\n",
       "      <td>40.7640</td>\n",
       "      <td>-73.9744</td>\n",
       "      <td>B02764</td>\n",
       "      <td>30</td>\n",
       "      <td>2</td>\n",
       "      <td>23</td>\n",
       "    </tr>\n",
       "    <tr>\n",
       "      <th>564512</th>\n",
       "      <td>2014-04-30 23:26:00</td>\n",
       "      <td>40.7629</td>\n",
       "      <td>-73.9672</td>\n",
       "      <td>B02764</td>\n",
       "      <td>30</td>\n",
       "      <td>2</td>\n",
       "      <td>23</td>\n",
       "    </tr>\n",
       "    <tr>\n",
       "      <th>564513</th>\n",
       "      <td>2014-04-30 23:31:00</td>\n",
       "      <td>40.7443</td>\n",
       "      <td>-73.9889</td>\n",
       "      <td>B02764</td>\n",
       "      <td>30</td>\n",
       "      <td>2</td>\n",
       "      <td>23</td>\n",
       "    </tr>\n",
       "    <tr>\n",
       "      <th>564514</th>\n",
       "      <td>2014-04-30 23:32:00</td>\n",
       "      <td>40.6756</td>\n",
       "      <td>-73.9405</td>\n",
       "      <td>B02764</td>\n",
       "      <td>30</td>\n",
       "      <td>2</td>\n",
       "      <td>23</td>\n",
       "    </tr>\n",
       "    <tr>\n",
       "      <th>564515</th>\n",
       "      <td>2014-04-30 23:48:00</td>\n",
       "      <td>40.6880</td>\n",
       "      <td>-73.9608</td>\n",
       "      <td>B02764</td>\n",
       "      <td>30</td>\n",
       "      <td>2</td>\n",
       "      <td>23</td>\n",
       "    </tr>\n",
       "  </tbody>\n",
       "</table>\n",
       "</div>"
      ],
      "text/plain": [
       "                 Date/Time      Lat      Lon    Base  dom  weekday  hour\n",
       "564511 2014-04-30 23:22:00  40.7640 -73.9744  B02764   30        2    23\n",
       "564512 2014-04-30 23:26:00  40.7629 -73.9672  B02764   30        2    23\n",
       "564513 2014-04-30 23:31:00  40.7443 -73.9889  B02764   30        2    23\n",
       "564514 2014-04-30 23:32:00  40.6756 -73.9405  B02764   30        2    23\n",
       "564515 2014-04-30 23:48:00  40.6880 -73.9608  B02764   30        2    23"
      ]
     },
     "execution_count": 10,
     "metadata": {},
     "output_type": "execute_result"
    }
   ],
   "source": [
    "\n",
    "def get_weekday(dt):\n",
    "    return dt.weekday()\n",
    "\n",
    "data['weekday'] = data['Date/Time'].map(get_weekday)\n",
    "\n",
    "def get_hour(dt):\n",
    "    return dt.hour\n",
    "\n",
    "data['hour'] = data['Date/Time'].map(get_hour)\n",
    "\n",
    "data.tail()"
   ]
  },
  {
   "cell_type": "markdown",
   "metadata": {},
   "source": [
    "analyze the DoM"
   ]
  },
  {
   "cell_type": "code",
   "execution_count": 11,
   "metadata": {},
   "outputs": [
    {
     "data": {
      "text/plain": [
       "Text(0.5, 1.0, 'Frequency by DoM - uber - Apr 2014')"
      ]
     },
     "execution_count": 11,
     "metadata": {},
     "output_type": "execute_result"
    },
    {
     "data": {
      "image/png": "[encoded data removed]",
      "text/plain": [
       "<Figure size 432x288 with 1 Axes>"
      ]
     },
     "metadata": {
      "needs_background": "light"
     },
     "output_type": "display_data"
    }
   ],
   "source": [
    "hist(data.dom, bins=30, rwidth=.8, range=(0.5, 30.5))\n",
    "xlabel('date of the month')\n",
    "ylabel('frequency')\n",
    "title('Frequency by DoM - uber - Apr 2014')"
   ]
  },
  {
   "cell_type": "code",
   "execution_count": 13,
   "metadata": {},
   "outputs": [
    {
     "data": {
      "text/plain": [
       "(array([52721., 59680., 52581., 58631., 45427., 56764., 38781., 60673.,\n",
       "        64697., 74561.]),\n",
       " array([ 1. ,  3.9,  6.8,  9.7, 12.6, 15.5, 18.4, 21.3, 24.2, 27.1, 30. ]),\n",
       " <a list of 10 Patch objects>)"
      ]
     },
     "execution_count": 13,
     "metadata": {},
     "output_type": "execute_result"
    },
    {
     "data": {
      "image/png": "[encoded data removed]",
      "text/plain": [
       "<Figure size 432x288 with 1 Axes>"
      ]
     },
     "metadata": {
      "needs_background": "light"
     },
     "output_type": "display_data"
    }
   ],
   "source": [
    "hist(data.dom)"
   ]
  },
  {
   "cell_type": "code",
   "execution_count": null,
   "metadata": {},
   "outputs": [],
   "source": []
  }
 ],
 "metadata": {
  "kernelspec": {
   "display_name": "Python 3",
   "language": "python",
   "name": "python3"
  },
  "language_info": {
   "codemirror_mode": {
    "name": "ipython",
    "version": 3
   },
   "file_extension": ".py",
   "mimetype": "text/x-python",
   "name": "python",
   "nbconvert_exporter": "python",
   "pygments_lexer": "ipython3",
   "version": "3.8.3"
  }
 },
 "nbformat": 4,
 "nbformat_minor": 4
}
